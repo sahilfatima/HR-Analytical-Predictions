{
  "metadata": {
    "kernelspec": {
      "language": "python",
      "display_name": "Python 3",
      "name": "python3"
    },
    "language_info": {
      "name": "python",
      "version": "3.10.13",
      "mimetype": "text/x-python",
      "codemirror_mode": {
        "name": "ipython",
        "version": 3
      },
      "pygments_lexer": "ipython3",
      "nbconvert_exporter": "python",
      "file_extension": ".py"
    },
    "kaggle": {
      "accelerator": "none",
      "dataSources": [
        {
          "sourceId": 15488,
          "sourceType": "datasetVersion",
          "datasetId": 11142
        }
      ],
      "dockerImageVersionId": 30698,
      "isInternetEnabled": true,
      "language": "python",
      "sourceType": "notebook",
      "isGpuEnabled": false
    },
    "colab": {
      "name": "Analytics_prediction",
      "provenance": [],
      "include_colab_link": true
    }
  },
  "nbformat_minor": 0,
  "nbformat": 4,
  "cells": [
    {
      "cell_type": "markdown",
      "metadata": {
        "id": "view-in-github",
        "colab_type": "text"
      },
      "source": [
        "<a href=\"https://colab.research.google.com/github/sahilfatima/HR-Analytical-Predictions/blob/main/Analytics_prediction.ipynb\" target=\"_parent\"><img src=\"https://colab.research.google.com/assets/colab-badge.svg\" alt=\"Open In Colab\"/></a>"
      ]
    },
    {
      "source": [
        "\n",
        "# IMPORTANT: RUN THIS CELL IN ORDER TO IMPORT YOUR KAGGLE DATA SOURCES\n",
        "# TO THE CORRECT LOCATION (/kaggle/input) IN YOUR NOTEBOOK,\n",
        "# THEN FEEL FREE TO DELETE THIS CELL.\n",
        "# NOTE: THIS NOTEBOOK ENVIRONMENT DIFFERS FROM KAGGLE'S PYTHON\n",
        "# ENVIRONMENT SO THERE MAY BE MISSING LIBRARIES USED BY YOUR\n",
        "# NOTEBOOK.\n",
        "\n",
        "import os\n",
        "import sys\n",
        "from tempfile import NamedTemporaryFile\n",
        "from urllib.request import urlopen\n",
        "from urllib.parse import unquote, urlparse\n",
        "from urllib.error import HTTPError\n",
        "from zipfile import ZipFile\n",
        "import tarfile\n",
        "import shutil\n",
        "\n",
        "CHUNK_SIZE = 40960\n",
        "DATA_SOURCE_MAPPING = 'hr-analytics:https%3A%2F%2Fstorage.googleapis.com%2Fkaggle-data-sets%2F11142%2F15488%2Fbundle%2Farchive.zip%3FX-Goog-Algorithm%3DGOOG4-RSA-SHA256%26X-Goog-Credential%3Dgcp-kaggle-com%2540kaggle-161607.iam.gserviceaccount.com%252F20240423%252Fauto%252Fstorage%252Fgoog4_request%26X-Goog-Date%3D20240423T121307Z%26X-Goog-Expires%3D259200%26X-Goog-SignedHeaders%3Dhost%26X-Goog-Signature%3Da97b646879e923c360aa18223aa5a18ec98b57797e68b06000bd2263dfcdd4ad73d9d9c27fca06f25597041a4704359eee2e0a0bacb283b71a95cfd780b44be174fc3ecf26727da9207363b6e0019d3e27ed2b1f60a089ba915283da11c85e57b527133d82090d96ebc9498a19380f0b1697e65d09d6549832f709f6ea392bf806024a5edeeff9b79c26417f958b84568736cb507d4c80bb498e53d1fc8545deb3f844c95b15b238d78fdda527fe27ee80bccf1e1bac62dc0521816363ac4cca1ebb3e8afe00d97d5b0c1696f123389b3ce81dbfe4397bbd35fb2fb4d1198597b5ddceed0d0a2d0d2ee010b544bacf7819a7ab7e4f0a5f0e57235692e18a9f4f'\n",
        "\n",
        "KAGGLE_INPUT_PATH='/kaggle/input'\n",
        "KAGGLE_WORKING_PATH='/kaggle/working'\n",
        "KAGGLE_SYMLINK='kaggle'\n",
        "\n",
        "!umount /kaggle/input/ 2> /dev/null\n",
        "shutil.rmtree('/kaggle/input', ignore_errors=True)\n",
        "os.makedirs(KAGGLE_INPUT_PATH, 0o777, exist_ok=True)\n",
        "os.makedirs(KAGGLE_WORKING_PATH, 0o777, exist_ok=True)\n",
        "\n",
        "try:\n",
        "  os.symlink(KAGGLE_INPUT_PATH, os.path.join(\"..\", 'input'), target_is_directory=True)\n",
        "except FileExistsError:\n",
        "  pass\n",
        "try:\n",
        "  os.symlink(KAGGLE_WORKING_PATH, os.path.join(\"..\", 'working'), target_is_directory=True)\n",
        "except FileExistsError:\n",
        "  pass\n",
        "\n",
        "for data_source_mapping in DATA_SOURCE_MAPPING.split(','):\n",
        "    directory, download_url_encoded = data_source_mapping.split(':')\n",
        "    download_url = unquote(download_url_encoded)\n",
        "    filename = urlparse(download_url).path\n",
        "    destination_path = os.path.join(KAGGLE_INPUT_PATH, directory)\n",
        "    try:\n",
        "        with urlopen(download_url) as fileres, NamedTemporaryFile() as tfile:\n",
        "            total_length = fileres.headers['content-length']\n",
        "            print(f'Downloading {directory}, {total_length} bytes compressed')\n",
        "            dl = 0\n",
        "            data = fileres.read(CHUNK_SIZE)\n",
        "            while len(data) > 0:\n",
        "                dl += len(data)\n",
        "                tfile.write(data)\n",
        "                done = int(50 * dl / int(total_length))\n",
        "                sys.stdout.write(f\"\\r[{'=' * done}{' ' * (50-done)}] {dl} bytes downloaded\")\n",
        "                sys.stdout.flush()\n",
        "                data = fileres.read(CHUNK_SIZE)\n",
        "            if filename.endswith('.zip'):\n",
        "              with ZipFile(tfile) as zfile:\n",
        "                zfile.extractall(destination_path)\n",
        "            else:\n",
        "              with tarfile.open(tfile.name) as tarfile:\n",
        "                tarfile.extractall(destination_path)\n",
        "            print(f'\\nDownloaded and uncompressed: {directory}')\n",
        "    except HTTPError as e:\n",
        "        print(f'Failed to load (likely expired) {download_url} to path {destination_path}')\n",
        "        continue\n",
        "    except OSError as e:\n",
        "        print(f'Failed to load {download_url} to path {destination_path}')\n",
        "        continue\n",
        "\n",
        "print('Data source import complete.')\n"
      ],
      "metadata": {
        "id": "Jn_I2Zfe39Gi"
      },
      "cell_type": "code",
      "outputs": [],
      "execution_count": null
    },
    {
      "cell_type": "code",
      "source": [
        "#Importing Libraries\n",
        "import numpy as np\n",
        "import pandas as pd\n",
        "from matplotlib import pyplot as plt\n",
        "import seaborn as sns\n",
        "from sklearn.model_selection import train_test_split\n",
        "from sklearn.linear_model import LogisticRegression"
      ],
      "metadata": {
        "_uuid": "8f2839f25d086af736a60e9eeb907d3b93b6e0e5",
        "_cell_guid": "b1076dfc-b9ad-4769-8c92-a6c4dae69d19",
        "execution": {
          "iopub.status.busy": "2024-04-23T11:45:47.173206Z",
          "iopub.execute_input": "2024-04-23T11:45:47.173968Z",
          "iopub.status.idle": "2024-04-23T11:45:50.932161Z",
          "shell.execute_reply.started": "2024-04-23T11:45:47.17392Z",
          "shell.execute_reply": "2024-04-23T11:45:50.930443Z"
        },
        "trusted": true,
        "id": "6rZgB1Q139Gm"
      },
      "execution_count": null,
      "outputs": []
    },
    {
      "cell_type": "code",
      "source": [
        "df = pd.read_csv(\"/kaggle/input/hr-analytics/HR_comma_sep.csv\")\n",
        "df.describe()"
      ],
      "metadata": {
        "execution": {
          "iopub.status.busy": "2024-04-23T11:46:28.451134Z",
          "iopub.execute_input": "2024-04-23T11:46:28.451483Z",
          "iopub.status.idle": "2024-04-23T11:46:28.506771Z",
          "shell.execute_reply.started": "2024-04-23T11:46:28.451454Z",
          "shell.execute_reply": "2024-04-23T11:46:28.505883Z"
        },
        "trusted": true,
        "id": "Os51Jvcx39Gm"
      },
      "execution_count": null,
      "outputs": []
    },
    {
      "cell_type": "markdown",
      "source": [
        "# Data exploration and visualization"
      ],
      "metadata": {
        "id": "citrC7aL39Gn"
      }
    },
    {
      "cell_type": "code",
      "source": [
        "df.info()"
      ],
      "metadata": {
        "execution": {
          "iopub.status.busy": "2024-04-23T11:46:42.640182Z",
          "iopub.execute_input": "2024-04-23T11:46:42.640618Z",
          "iopub.status.idle": "2024-04-23T11:46:42.669996Z",
          "shell.execute_reply.started": "2024-04-23T11:46:42.640587Z",
          "shell.execute_reply": "2024-04-23T11:46:42.667807Z"
        },
        "trusted": true,
        "id": "X8g7ymem39Go"
      },
      "execution_count": null,
      "outputs": []
    },
    {
      "cell_type": "code",
      "source": [
        "left = df[df.left==1]\n",
        "left.shape"
      ],
      "metadata": {
        "execution": {
          "iopub.status.busy": "2024-04-23T11:46:52.331837Z",
          "iopub.execute_input": "2024-04-23T11:46:52.332237Z",
          "iopub.status.idle": "2024-04-23T11:46:52.343135Z",
          "shell.execute_reply.started": "2024-04-23T11:46:52.332208Z",
          "shell.execute_reply": "2024-04-23T11:46:52.341626Z"
        },
        "trusted": true,
        "id": "JNkeoTVv39Go"
      },
      "execution_count": null,
      "outputs": []
    },
    {
      "cell_type": "code",
      "source": [
        "retained = df[df.left==0]\n",
        "retained.shape"
      ],
      "metadata": {
        "execution": {
          "iopub.status.busy": "2024-04-23T11:47:23.682195Z",
          "iopub.execute_input": "2024-04-23T11:47:23.682618Z",
          "iopub.status.idle": "2024-04-23T11:47:23.693603Z",
          "shell.execute_reply.started": "2024-04-23T11:47:23.682589Z",
          "shell.execute_reply": "2024-04-23T11:47:23.692294Z"
        },
        "trusted": true,
        "id": "YIlsyVna39Gp"
      },
      "execution_count": null,
      "outputs": []
    },
    {
      "cell_type": "markdown",
      "source": [
        "From above table we can draw following conclusions,\n",
        "<ol>\n",
        "    <li>**Satisfaction Level**: Satisfaction level seems to be relatively low (0.44) in employees leaving the firm vs the retained ones (0.66)</li>\n",
        "    <li>**Average Monthly Hours**: Average monthly hours are higher in employees leaving the firm (199 vs 207)</li>\n",
        "    <li>**Promotion Last 5 Years**: Employees who are given promotion are likely to be retained at firm </li>\n",
        "</ol>"
      ],
      "metadata": {
        "id": "ZZQHO_0A39Gp"
      }
    },
    {
      "cell_type": "markdown",
      "source": [
        "**Impact of salary on employee retention**"
      ],
      "metadata": {
        "id": "Ct882gLG39Gp"
      }
    },
    {
      "cell_type": "code",
      "source": [
        "pd.crosstab(df.salary,df.left).plot(kind='bar')"
      ],
      "metadata": {
        "execution": {
          "iopub.status.busy": "2024-04-23T11:47:33.433965Z",
          "iopub.execute_input": "2024-04-23T11:47:33.434458Z",
          "iopub.status.idle": "2024-04-23T11:47:33.804911Z",
          "shell.execute_reply.started": "2024-04-23T11:47:33.434424Z",
          "shell.execute_reply": "2024-04-23T11:47:33.803542Z"
        },
        "trusted": true,
        "id": "4dwVvhKV39Gq"
      },
      "execution_count": null,
      "outputs": []
    },
    {
      "cell_type": "code",
      "source": [
        "plt.bar(df.salary,df.left)"
      ],
      "metadata": {
        "execution": {
          "iopub.status.busy": "2024-04-23T11:47:39.002162Z",
          "iopub.execute_input": "2024-04-23T11:47:39.002752Z",
          "iopub.status.idle": "2024-04-23T11:48:08.191181Z",
          "shell.execute_reply.started": "2024-04-23T11:47:39.002712Z",
          "shell.execute_reply": "2024-04-23T11:48:08.18987Z"
        },
        "trusted": true,
        "id": "WikYqEpj39Gq"
      },
      "execution_count": null,
      "outputs": []
    },
    {
      "cell_type": "markdown",
      "source": [
        "Above bar chart shows employees with high salaries are likely to not leave the company"
      ],
      "metadata": {
        "id": "d_nuw4JT39Gq"
      }
    },
    {
      "cell_type": "markdown",
      "source": [
        "**Department wise employee retention rate**"
      ],
      "metadata": {
        "id": "En_c3o-w39Gq"
      }
    },
    {
      "cell_type": "code",
      "source": [
        "pd.crosstab(df.Department,df.left).plot(kind='bar')"
      ],
      "metadata": {
        "execution": {
          "iopub.status.busy": "2024-04-23T11:48:13.863286Z",
          "iopub.execute_input": "2024-04-23T11:48:13.86375Z",
          "iopub.status.idle": "2024-04-23T11:48:14.267994Z",
          "shell.execute_reply.started": "2024-04-23T11:48:13.863718Z",
          "shell.execute_reply": "2024-04-23T11:48:14.267051Z"
        },
        "trusted": true,
        "id": "l2L7SgAl39Gr"
      },
      "execution_count": null,
      "outputs": []
    },
    {
      "cell_type": "markdown",
      "source": [
        "From above chart there seem to be some impact of department on employee retention but it is not major hence we will ignore department in our analysis"
      ],
      "metadata": {
        "id": "qT1GGZAk39Gr"
      }
    },
    {
      "cell_type": "markdown",
      "source": [
        "<h3 style=\"color:purple\">From the data analysis so far we can conclude that we will use following variables as independant variables in our model</h3>\n",
        "<ol>\n",
        "    <li>**Satisfaction Level**</li>\n",
        "    <li>**Average Monthly Hours**</li>\n",
        "    <li>**Promotion Last 5 Years**</li>\n",
        "    <li>**Salary**</li>\n",
        "</ol>"
      ],
      "metadata": {
        "id": "wT6grdk439Gr"
      }
    },
    {
      "cell_type": "code",
      "source": [
        "subdf = df[['satisfaction_level','average_montly_hours','promotion_last_5years','salary']]\n",
        "subdf.head()"
      ],
      "metadata": {
        "execution": {
          "iopub.status.busy": "2024-04-23T11:48:22.608971Z",
          "iopub.execute_input": "2024-04-23T11:48:22.60939Z",
          "iopub.status.idle": "2024-04-23T11:48:22.624467Z",
          "shell.execute_reply.started": "2024-04-23T11:48:22.609358Z",
          "shell.execute_reply": "2024-04-23T11:48:22.623237Z"
        },
        "trusted": true,
        "id": "7ttiW2rm39Gr"
      },
      "execution_count": null,
      "outputs": []
    },
    {
      "cell_type": "markdown",
      "source": [
        "# Tackle salary dummy variable"
      ],
      "metadata": {
        "id": "ulrYQMjS39Gr"
      }
    },
    {
      "cell_type": "markdown",
      "source": [
        "Salary has all text data. It needs to be converted to numbers and we will use dummy variable for that."
      ],
      "metadata": {
        "id": "ilGSfzi639Gr"
      }
    },
    {
      "cell_type": "code",
      "source": [
        "salary_dummies = pd.get_dummies(subdf.salary, prefix=\"salary\")"
      ],
      "metadata": {
        "execution": {
          "iopub.status.busy": "2024-04-23T11:48:30.802756Z",
          "iopub.execute_input": "2024-04-23T11:48:30.803219Z",
          "iopub.status.idle": "2024-04-23T11:48:30.813445Z",
          "shell.execute_reply.started": "2024-04-23T11:48:30.803186Z",
          "shell.execute_reply": "2024-04-23T11:48:30.811714Z"
        },
        "trusted": true,
        "id": "fEO6M6hO39Gs"
      },
      "execution_count": null,
      "outputs": []
    },
    {
      "cell_type": "code",
      "source": [
        "df_with_dummies=pd.concat([subdf,salary_dummies],axis='columns')"
      ],
      "metadata": {
        "execution": {
          "iopub.status.busy": "2024-04-23T11:48:33.713805Z",
          "iopub.execute_input": "2024-04-23T11:48:33.714598Z",
          "iopub.status.idle": "2024-04-23T11:48:33.722287Z",
          "shell.execute_reply.started": "2024-04-23T11:48:33.714561Z",
          "shell.execute_reply": "2024-04-23T11:48:33.720798Z"
        },
        "trusted": true,
        "id": "hzBNpG0N39Gs"
      },
      "execution_count": null,
      "outputs": []
    },
    {
      "cell_type": "code",
      "source": [
        "df_with_dummies"
      ],
      "metadata": {
        "execution": {
          "iopub.status.busy": "2024-04-23T11:48:36.231101Z",
          "iopub.execute_input": "2024-04-23T11:48:36.231563Z",
          "iopub.status.idle": "2024-04-23T11:48:36.251926Z",
          "shell.execute_reply.started": "2024-04-23T11:48:36.23153Z",
          "shell.execute_reply": "2024-04-23T11:48:36.250309Z"
        },
        "trusted": true,
        "id": "h8QJVAwK39Gs"
      },
      "execution_count": null,
      "outputs": []
    },
    {
      "cell_type": "markdown",
      "source": [
        "Now we need to remove salary column which is text data. It is already replaced by dummy variables so we can safely remove it"
      ],
      "metadata": {
        "id": "aW0KbvCg39Gs"
      }
    },
    {
      "cell_type": "code",
      "source": [
        "df_with_dummies.drop('salary',axis='columns',inplace=True)\n",
        "df_with_dummies.head()"
      ],
      "metadata": {
        "execution": {
          "iopub.status.busy": "2024-04-23T11:48:41.48255Z",
          "iopub.execute_input": "2024-04-23T11:48:41.483286Z",
          "iopub.status.idle": "2024-04-23T11:48:41.5002Z",
          "shell.execute_reply.started": "2024-04-23T11:48:41.48325Z",
          "shell.execute_reply": "2024-04-23T11:48:41.498983Z"
        },
        "trusted": true,
        "id": "kzrNXbIM39Gs"
      },
      "execution_count": null,
      "outputs": []
    },
    {
      "cell_type": "markdown",
      "source": [
        "# Logistic Regression"
      ],
      "metadata": {
        "id": "Uwp6cVaK39Gs"
      }
    },
    {
      "cell_type": "code",
      "source": [
        "X = df_with_dummies\n",
        "X.head()"
      ],
      "metadata": {
        "execution": {
          "iopub.status.busy": "2024-04-23T11:49:08.890158Z",
          "iopub.execute_input": "2024-04-23T11:49:08.89063Z",
          "iopub.status.idle": "2024-04-23T11:49:08.907165Z",
          "shell.execute_reply.started": "2024-04-23T11:49:08.890597Z",
          "shell.execute_reply": "2024-04-23T11:49:08.905769Z"
        },
        "trusted": true,
        "id": "kPVEMPRf39Gs"
      },
      "execution_count": null,
      "outputs": []
    },
    {
      "cell_type": "code",
      "source": [
        "y = df.left"
      ],
      "metadata": {
        "execution": {
          "iopub.status.busy": "2024-04-23T11:49:11.210202Z",
          "iopub.execute_input": "2024-04-23T11:49:11.211595Z",
          "iopub.status.idle": "2024-04-23T11:49:11.217371Z",
          "shell.execute_reply.started": "2024-04-23T11:49:11.211541Z",
          "shell.execute_reply": "2024-04-23T11:49:11.215696Z"
        },
        "trusted": true,
        "id": "xPxSAe2039Gs"
      },
      "execution_count": null,
      "outputs": []
    },
    {
      "cell_type": "code",
      "source": [
        "x_train,x_test,y_train,y_test=train_test_split(X,y,train_size=.3)"
      ],
      "metadata": {
        "execution": {
          "iopub.status.busy": "2024-04-23T11:49:14.45203Z",
          "iopub.execute_input": "2024-04-23T11:49:14.452425Z",
          "iopub.status.idle": "2024-04-23T11:49:14.463737Z",
          "shell.execute_reply.started": "2024-04-23T11:49:14.452397Z",
          "shell.execute_reply": "2024-04-23T11:49:14.46239Z"
        },
        "trusted": true,
        "id": "L0dxaP2e39Gs"
      },
      "execution_count": null,
      "outputs": []
    },
    {
      "cell_type": "code",
      "source": [
        "model=LogisticRegression()"
      ],
      "metadata": {
        "execution": {
          "iopub.status.busy": "2024-04-23T11:49:19.520553Z",
          "iopub.execute_input": "2024-04-23T11:49:19.521011Z",
          "iopub.status.idle": "2024-04-23T11:49:19.527265Z",
          "shell.execute_reply.started": "2024-04-23T11:49:19.520976Z",
          "shell.execute_reply": "2024-04-23T11:49:19.525717Z"
        },
        "trusted": true,
        "id": "D09VWP6o39Gt"
      },
      "execution_count": null,
      "outputs": []
    },
    {
      "cell_type": "code",
      "source": [
        "model.fit(x_train,y_train)"
      ],
      "metadata": {
        "execution": {
          "iopub.status.busy": "2024-04-23T11:49:23.040566Z",
          "iopub.execute_input": "2024-04-23T11:49:23.040988Z",
          "iopub.status.idle": "2024-04-23T11:49:23.131405Z",
          "shell.execute_reply.started": "2024-04-23T11:49:23.040957Z",
          "shell.execute_reply": "2024-04-23T11:49:23.129783Z"
        },
        "trusted": true,
        "id": "jUlSIG0u39Gt"
      },
      "execution_count": null,
      "outputs": []
    },
    {
      "cell_type": "code",
      "source": [
        "model.predict(x_test)"
      ],
      "metadata": {
        "execution": {
          "iopub.status.busy": "2024-04-23T11:49:27.492577Z",
          "iopub.execute_input": "2024-04-23T11:49:27.493109Z",
          "iopub.status.idle": "2024-04-23T11:49:27.511792Z",
          "shell.execute_reply.started": "2024-04-23T11:49:27.493072Z",
          "shell.execute_reply": "2024-04-23T11:49:27.509898Z"
        },
        "trusted": true,
        "id": "rceFb57e39Gt"
      },
      "execution_count": null,
      "outputs": []
    },
    {
      "cell_type": "code",
      "source": [
        "model.score(x_test,y_test)"
      ],
      "metadata": {
        "execution": {
          "iopub.status.busy": "2024-04-23T11:49:29.502131Z",
          "iopub.execute_input": "2024-04-23T11:49:29.502555Z",
          "iopub.status.idle": "2024-04-23T11:49:29.528531Z",
          "shell.execute_reply.started": "2024-04-23T11:49:29.502523Z",
          "shell.execute_reply": "2024-04-23T11:49:29.526536Z"
        },
        "trusted": true,
        "id": "6h1PMQOz39Gt"
      },
      "execution_count": null,
      "outputs": []
    }
  ]
}